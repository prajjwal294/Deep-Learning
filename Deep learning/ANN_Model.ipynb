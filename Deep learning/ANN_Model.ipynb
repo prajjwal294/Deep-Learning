{
 "cells": [
  {
   "cell_type": "markdown",
   "metadata": {},
   "source": [
    "# ANN model to find the velocity and depth of each layer"
   ]
  },
  {
   "cell_type": "code",
   "execution_count": 1,
   "metadata": {},
   "outputs": [],
   "source": [
    "import numpy as np\n",
    "from matplotlib import pyplot as plt\n",
    "import tensorflow as tf\n",
    "import cv2\n",
    "import pandas as pd"
   ]
  },
  {
   "cell_type": "code",
   "execution_count": 18,
   "metadata": {},
   "outputs": [],
   "source": [
    "#X is the input to the ANN and are synthetic seismograms\n",
    "X = pd.read_csv(r\"C:\\Users\\LENOVO\\Desktop\\SeismicIN2.csv\")\n",
    "#Y is the output to the ANN and consist of seven parameters wihich we need to predict\n",
    "Y = pd.read_csv(r\"C:\\Users\\LENOVO\\Desktop\\SeismicOut2.csv\")"
   ]
  },
  {
   "cell_type": "code",
   "execution_count": 26,
   "metadata": {},
   "outputs": [
    {
     "name": "stdout",
     "output_type": "stream",
     "text": [
      "           depthA      depthB      depthC           vA           vB  \\\n",
      "0      108.961792  315.073015  371.394279  1132.026405  2036.367273   \n",
      "1      134.376875  326.915383  362.832567  1517.703541  1299.219844   \n",
      "2      113.882777  214.692939  250.570114  1955.591118  2179.795959   \n",
      "3       98.579716  222.654531  295.339068  1828.565713  1816.523305   \n",
      "4      184.426885  225.655131  268.573715  1223.844769  1372.034407   \n",
      "...           ...         ...         ...          ...          ...   \n",
      "99995  126.275255  317.513503  322.824565  1242.048410  2045.769154   \n",
      "99996  182.236447  176.365273  332.066413  1116.223245  1976.555311   \n",
      "99997  165.313063  172.164433  315.383077  1638.327666  1909.541908   \n",
      "99998  145.929186  159.761952  330.626125  1996.999400  1319.023805   \n",
      "99999  165.553111  176.845369  399.479896  1013.002601  2085.177035   \n",
      "\n",
      "                vC           vD  \n",
      "0      2158.351670  1818.503701  \n",
      "1      2234.526905  2274.594919  \n",
      "2      2091.938388  2220.384077  \n",
      "3      1842.608522  1931.726345  \n",
      "4      2217.403481  1827.705541  \n",
      "...            ...          ...  \n",
      "99995  1923.744749  2166.773355  \n",
      "99996  2043.928786  1991.138228  \n",
      "99997  1720.984197  1695.479096  \n",
      "99998  2282.696539  1851.910382  \n",
      "99999  1857.971594  2199.379876  \n",
      "\n",
      "[100000 rows x 7 columns]\n"
     ]
    }
   ],
   "source": [
    "print(Y)"
   ]
  },
  {
   "cell_type": "code",
   "execution_count": 30,
   "metadata": {},
   "outputs": [],
   "source": [
    "#Data normalization for better prediction\n",
    "D1 = Y[\"depthA\"]\n",
    "D2 = Y[\"depthB\"]\n",
    "D3 = Y[\"depthC\"]\n",
    "D4 = Y[\"vA\"]/10\n",
    "D5 = Y[\"vB\"]/10\n",
    "D6 = Y[\"vC\"]/10\n",
    "D7 = Y[\"vD\"]/10\n",
    "DataY = pd.concat([D1, D2, D3,D4,D5,D6, D7], axis=1)\n",
    "\n",
    "VV = X.to_numpy()  \n",
    "YY = DataY.to_numpy()\n",
    "YY_train = YY/100"
   ]
  },
  {
   "cell_type": "code",
   "execution_count": 35,
   "metadata": {},
   "outputs": [],
   "source": [
    "model = tf.keras.models.Sequential()\n",
    "\n",
    "model.add(tf.keras.layers.Dense(512, input_shape=(1110,), activation = tf.nn.tanh))\n",
    "model.add(tf.keras.layers.Dense(256, activation = tf.nn.relu)) \n",
    "\n",
    "model.add(tf.keras.layers.Dense(128, activation = tf.nn.relu)) \n",
    "model.add(tf.keras.layers.Dense(64, activation =tf.nn.relu)) \n",
    "model.add(tf.keras.layers.Dense(64, activation =tf.nn.relu)) \n",
    "\n",
    "\n",
    "model.add(tf.keras.layers.Dense(32, activation =tf.nn.relu))\n",
    "model.add(tf.keras.layers.Dense(32, activation =tf.nn.relu))\n",
    "\n",
    "model.add(tf.keras.layers.Dense(14, activation =tf.nn.relu))\n",
    "\n",
    "model.add(tf.keras.layers.Dense(7,  activation = tf.nn.relu))"
   ]
  },
  {
   "cell_type": "code",
   "execution_count": 123,
   "metadata": {},
   "outputs": [
    {
     "name": "stdout",
     "output_type": "stream",
     "text": [
      "Epoch 1/5\n",
      "90000/90000 [==============================] - 55s 608us/sample - loss: 0.0161 - acc: 0.9306\n",
      "Epoch 2/5\n",
      "90000/90000 [==============================] - 70s 773us/sample - loss: 0.0160 - acc: 0.9312\n",
      "Epoch 3/5\n",
      "90000/90000 [==============================] - 59s 653us/sample - loss: 0.0158 - acc: 0.9321\n",
      "Epoch 4/5\n",
      "90000/90000 [==============================] - 62s 693us/sample - loss: 0.0159 - acc: 0.9303\n",
      "Epoch 5/5\n",
      "90000/90000 [==============================] - 67s 743us/sample - loss: 0.0157 - acc: 0.9321\n"
     ]
    }
   ],
   "source": [
    "model.compile(optimizer = \"adam\", loss=\"MSE\", metrics=['accuracy'])\n",
    "history = model.fit(VV,YY_train, epochs = 30)\n",
    "#For better results carry out more epochs"
   ]
  },
  {
   "cell_type": "code",
   "execution_count": null,
   "metadata": {},
   "outputs": [],
   "source": [
    "plt.title(\"Loss Curve for Mean Square Error\")\n",
    "plt.xlabel(\"Epoch\")\n",
    "plt.ylabel(\"Loss\")\n",
    "plt.plot(history.history['loss'])\n",
    "print(history.history['loss'])"
   ]
  },
  {
   "cell_type": "markdown",
   "metadata": {},
   "source": [
    "Now we will do the testing of data"
   ]
  },
  {
   "cell_type": "code",
   "execution_count": 100,
   "metadata": {},
   "outputs": [],
   "source": [
    "X_test = pd.read_csv(r\"C:\\Users\\LENOVO\\Desktop\\SeismicIn.csv\")\n",
    "Y_test = pd.read_csv(r\"C:\\Users\\LENOVO\\Desktop\\SeismicOut.csv\")\n",
    "X_test = X_test.to_numpy()  \n",
    "\n",
    "D11 = Y_test[\"depthA\"]\n",
    "D22 = Y_test[\"depthB\"]\n",
    "D33 = Y_test[\"depthC\"]\n",
    "D44 = Y_test[\"vA\"]/10\n",
    "D55 = Y_test[\"vB\"]/10\n",
    "D66 = Y_test[\"vC\"]/10\n",
    "D77 = Y_test[\"vD\"]/10\n",
    "DataYtest = pd.concat([D11, D22, D33, D44, D55, D66, D77], axis=1)\n",
    "\n",
    "YtestD = (DataYtest.to_numpy())/100"
   ]
  },
  {
   "cell_type": "code",
   "execution_count": 127,
   "metadata": {},
   "outputs": [
    {
     "name": "stdout",
     "output_type": "stream",
     "text": [
      "5000/5000 [==============================] - 3s 606us/sample - loss: 0.0254 - acc: 0.9028\n"
     ]
    }
   ],
   "source": [
    "Loss, Accuracy = model.evaluate(X_test, YtestD)\n",
    "\n",
    "#print(Y_test*100)"
   ]
  },
  {
   "cell_type": "code",
   "execution_count": 128,
   "metadata": {},
   "outputs": [],
   "source": [
    "model.save('Weights')"
   ]
  },
  {
   "cell_type": "code",
   "execution_count": 129,
   "metadata": {},
   "outputs": [],
   "source": [
    "new_model = tf.keras.models.load_model('Weights')"
   ]
  },
  {
   "cell_type": "code",
   "execution_count": 130,
   "metadata": {},
   "outputs": [],
   "source": [
    "predictions = new_model.predict(X_test2)"
   ]
  },
  {
   "cell_type": "code",
   "execution_count": 114,
   "metadata": {},
   "outputs": [
    {
     "name": "stdout",
     "output_type": "stream",
     "text": [
      "[[ 118.211105  308.22922   372.49557  1591.2544   1952.436    2323.3362\n",
      "  1301.092   ]\n",
      " [ 112.75277   171.05095   220.0952   1582.032    2050.6914   2162.8933\n",
      "  1515.5635  ]\n",
      " [  86.21525   285.95117   356.05743  1494.055    1262.5435   1849.4823\n",
      "  2199.1406  ]\n",
      " [  99.16756   194.96037   307.5445   1322.7083   1558.3284   1889.4003\n",
      "  2142.2517  ]\n",
      " [ 156.39273   218.66103   329.7216   1617.6517   1659.9341   1665.7216\n",
      "  1933.7142  ]\n",
      " [ 127.93903   228.45721   295.4013   1822.007    1773.4413   1749.0277\n",
      "  1794.7202  ]\n",
      " [ 169.30861   203.9155    273.20602  1414.8887   1420.9574   1727.7527\n",
      "  2181.3987  ]\n",
      " [ 148.80309   248.81453   314.08414  1700.8125   1821.1909   1659.6409\n",
      "  2260.5327  ]\n",
      " [ 112.130905  169.96478   219.80531  1587.4312   2056.1833   2166.3655\n",
      "  1525.9225  ]]\n"
     ]
    }
   ],
   "source": [
    "a = predictions[:,3:]*1000\n",
    "b = predictions[:,:3]*100\n",
    "predict = np.concatenate((b,a), axis = 1)\n",
    "print(predict)"
   ]
  },
  {
   "cell_type": "code",
   "execution_count": 132,
   "metadata": {},
   "outputs": [
    {
     "data": {
      "text/plain": [
       "[<matplotlib.lines.Line2D at 0x2d34734d4c8>]"
      ]
     },
     "execution_count": 132,
     "metadata": {},
     "output_type": "execute_result"
    },
    {
     "data": {
      "image/png": "[encoded data removed]",
      "text/plain": [
       "<Figure size 432x288 with 1 Axes>"
      ]
     },
     "metadata": {
      "needs_background": "light"
     },
     "output_type": "display_data"
    }
   ],
   "source": [
    "#Curve of predicted value and original value\n",
    "plt.plot(predictions[0]*100)\n",
    "plt.plot(Y_test2[0]*100)"
   ]
  },
  {
   "cell_type": "code",
   "execution_count": null,
   "metadata": {},
   "outputs": [],
   "source": []
  }
 ],
 "metadata": {
  "kernelspec": {
   "display_name": "Python 3",
   "language": "python",
   "name": "python3"
  },
  "language_info": {
   "codemirror_mode": {
    "name": "ipython",
    "version": 3
   },
   "file_extension": ".py",
   "mimetype": "text/x-python",
   "name": "python",
   "nbconvert_exporter": "python",
   "pygments_lexer": "ipython3",
   "version": "3.7.4"
  }
 },
 "nbformat": 4,
 "nbformat_minor": 2
}
