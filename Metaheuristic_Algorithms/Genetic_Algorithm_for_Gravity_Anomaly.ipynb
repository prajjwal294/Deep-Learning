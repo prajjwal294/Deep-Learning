{
 "cells": [
  {
   "cell_type": "markdown",
   "metadata": {},
   "source": [
    "# Genetic Algorithm for Inversion of Gravity Anomaly Data"
   ]
  },
  {
   "cell_type": "code",
   "execution_count": 11,
   "metadata": {},
   "outputs": [],
   "source": [
    "import matplotlib.pyplot as plt\n",
    "import numpy as np\n",
    "import random\n",
    "import math"
   ]
  },
  {
   "cell_type": "code",
   "execution_count": 12,
   "metadata": {},
   "outputs": [],
   "source": [
    "#generate population\n",
    "population_density = np.linspace(-0.2, 1, 5000)\n",
    "population_t = np.linspace(0, 10000, 50000)\n",
    "population_Z = np.linspace(300, 15000, 50000)\n",
    "population_alpha = np.linspace(0, math.pi, 20000)\n",
    "population_h = np.linspace(000, 15000, 50000)"
   ]
  },
  {
   "cell_type": "code",
   "execution_count": 31,
   "metadata": {},
   "outputs": [],
   "source": [
    "#generating a synthetic data with following parametric values\n",
    "G = 6.67 * 10 ** -3   #\n",
    "density = 1.0\n",
    "t = 1500\n",
    "h =800\n",
    "z = 2500\n",
    "alpha = np.pi *30/180\n",
    "\n",
    "x = np.linspace(-8000,8000,50)\n",
    "g = 2*G*density*t*((np.pi-np.arctan((x-h*(1/np.tan(alpha)))/(z-h)))-np.arctan((x + h*(1/np.tan(alpha)))/(z+h)))"
   ]
  },
  {
   "cell_type": "code",
   "execution_count": 51,
   "metadata": {},
   "outputs": [
    {
     "data": {
      "image/png": "[encoded data removed]",
      "text/plain": [
       "<Figure size 432x288 with 1 Axes>"
      ]
     },
     "metadata": {
      "needs_background": "light"
     },
     "output_type": "display_data"
    }
   ],
   "source": [
    "plt.plot(x, g)\n",
    "plt.xlabel(\"Offset\")\n",
    "plt.ylabel(\"Gravity Anomaly (mGal)\")\n",
    "plt.show()\n",
    "P1 = [1, 2, 3, 4, 5] #Array used in the code "
   ]
  },
  {
   "cell_type": "code",
   "execution_count": 15,
   "metadata": {},
   "outputs": [],
   "source": [
    "#Misfit function is defines below. It works better than simple MSE function\n",
    "def misfit(z2, h2, alpha2, density2, t2):\n",
    "    gi = 0\n",
    "    ga = 2 * G * density2 * t2 * ((np.pi - np.arctan((x - h2 * (1 / np.tan(alpha2))) / (z2 - h2))) - np.arctan(\n",
    "        (x + h2 * (1 / np.tan(alpha2))) / (z2 + h2)))\n",
    "    for j in range(len(x)):\n",
    "        gi = ((g[j] - ga[j]) / g[j]) ** 2 + gi\n",
    "    fit = (100 / len(x)) * ((gi / 2) ** 0.5)\n",
    "    return (fit)"
   ]
  },
  {
   "cell_type": "code",
   "execution_count": 16,
   "metadata": {},
   "outputs": [],
   "source": [
    "# P2_array is for array of ga values\n",
    "P2_array = []\n",
    "# fit_array is for fitness value of each parent\n",
    "fit_array = []"
   ]
  },
  {
   "cell_type": "code",
   "execution_count": 17,
   "metadata": {},
   "outputs": [],
   "source": [
    "#Function for generating the parent population\n",
    "def parent_generation(x):\n",
    "    for i in range(10000):  # Range should be equal to number of parents to generate\n",
    "        density2 = random.choice(population_density)\n",
    "        z2 = random.choice(population_Z)\n",
    "        h2 = random.choice(population_h)\n",
    "        alpha2 = random.choice(population_alpha)\n",
    "        t2 = random.choice(population_t)\n",
    "\n",
    "        P2 = [z2, h2, alpha2, density2, t2]\n",
    "        P2_array.append(P2)\n",
    "\n",
    "        ft = misfit(P2[0], P2[1], P2[2], P2[3], P2[4])\n",
    "        fit_array.append(ft)\n",
    "    return (P2_array, fit_array)"
   ]
  },
  {
   "cell_type": "code",
   "execution_count": 18,
   "metadata": {},
   "outputs": [],
   "source": [
    "#Tournament Selection Function\n",
    "def tournament(P2_array, fit_array):\n",
    "    parent_group = np.zeros(shape=(200, len(P1)))\n",
    "    tour_fit = np.zeros(200)\n",
    "    for i in range(200):\n",
    "        k = random.randint(0, 9999)\n",
    "        l = P2_array[k]\n",
    "        m = fit_array[k]\n",
    "        parent_group[i] = l\n",
    "        tour_fit[i] = m\n",
    "    AAA = np.argmin(tour_fit)\n",
    "    mn1 = tour_fit[AAA]\n",
    "    tour_fit[AAA] = 1010000\n",
    "    hh = np.argmin(tour_fit)\n",
    "    mn2 = tour_fit[hh]\n",
    "\n",
    "    parent1 = parent_group[AAA]\n",
    "    parent2 = parent_group[hh]\n",
    "    return (parent1, parent2)"
   ]
  },
  {
   "cell_type": "code",
   "execution_count": 19,
   "metadata": {},
   "outputs": [],
   "source": [
    "#Corssover Function\n",
    "def crossover(parent1, parent2):\n",
    "    s = 3\n",
    "    u = np.random.uniform(0, 1, 1000)\n",
    "    n = random.randint(0, 999)\n",
    "    parent1, parent2 = tournament(P2_array, fit_array)\n",
    "    beta = abs(-2 * s * (math.log(1 - u[n])) ** 0.5)\n",
    "    offspring1 = np.zeros(len(P1))\n",
    "    offspring2 = np.zeros(len(P1))\n",
    "\n",
    "    for i in range(len(P1)):\n",
    "        offspring1[i] = parent1[i] * np.log(beta) + parent2[i] * (1 - np.log(beta))\n",
    "        offspring2[i] = parent2[i] * np.log(beta) + parent1[i] * (1 - np.log(beta))\n",
    "    parent1 = offspring1\n",
    "    parent2 = offspring2\n",
    "    return (parent1, parent2)"
   ]
  },
  {
   "cell_type": "code",
   "execution_count": 20,
   "metadata": {},
   "outputs": [],
   "source": [
    "#Mutation Function\n",
    "def mutation(parent1, parent2):\n",
    "    b = 1.0\n",
    "    r = np.random.uniform(0, 1, 1000)\n",
    "    n = random.randint(0, 999)\n",
    "\n",
    "    r2 = np.random.uniform(0, 1, 1000)\n",
    "    n2 = random.randint(0, 999)\n",
    "    if r2[n2] < 0.5:\n",
    "        x = parent1[0]\n",
    "        dif1 = []\n",
    "        for i in range(len(parent1)):\n",
    "            z = parent1[i] - x\n",
    "            dif1.append(z)\n",
    "\n",
    "        x2 = parent1[len(parent1) - 1]\n",
    "        dif2 = []\n",
    "        for i2 in range(len(parent1)):\n",
    "            z2 = x2 - parent1[i2]\n",
    "            dif2.append(z2)\n",
    "\n",
    "        for i in range(len(parent1) - 1):\n",
    "            t = dif1[i] / dif2[i]\n",
    "\n",
    "            if (r[n] < t):\n",
    "                t1 = t - (t * ((t - r[n]) / t) ** b)\n",
    "            elif (r[n] == t):\n",
    "                t1 = t\n",
    "            else:\n",
    "                t1 = t + (1 - t) * (((r[n] - t) / (1 - t)) ** b)\n",
    "                k = t1 * parent1[len(parent1) - 1]\n",
    "                parent1[i] = (1 - t1) * parent1[i] + k\n",
    "\n",
    "\n",
    "    else:\n",
    "        x = parent2[0]\n",
    "        dif1 = []\n",
    "        for i in range(len(parent1)):\n",
    "            z = parent2[i] - x\n",
    "            dif1.append(z)\n",
    "\n",
    "        x2 = parent2[len(parent2) - 1]\n",
    "        dif2 = []\n",
    "        for i2 in range(len(parent2)):\n",
    "            z2 = x2 - parent2[i2]\n",
    "            dif2.append(z2)\n",
    "\n",
    "        for i in range(len(parent2) - 1):\n",
    "            t = dif1[i] / dif2[i]\n",
    "\n",
    "            if (r[n] < t):\n",
    "                t1 = t - (t * ((t - r[n]) / t) ** b)\n",
    "            elif (r[n] == t):\n",
    "                t1 = t\n",
    "            else:\n",
    "                t1 = t + (1 - t) * (((r[n] - t) / (1 - t)) ** b)\n",
    "                k = t1 * parent2[len(parent2) - 1]\n",
    "                parent1[i] = (1 - t1) * parent2[i] + k\n",
    "\n",
    "    return (parent1, parent2)"
   ]
  },
  {
   "cell_type": "code",
   "execution_count": 21,
   "metadata": {},
   "outputs": [],
   "source": [
    "iteration = []\n",
    "depth = []\n",
    "hvalue = []\n",
    "angle = []\n",
    "density = []\n",
    "thickness = []"
   ]
  },
  {
   "cell_type": "code",
   "execution_count": 23,
   "metadata": {},
   "outputs": [],
   "source": [
    "#Final GA code after combining all the above functions\n",
    "parent1, parent2 = parent_generation(x)\n",
    "for i in range(5000):  #Range is equal to number of iterations\n",
    "\n",
    "    parent1, parent2 = tournament(P2_array, fit_array)\n",
    "    r = random.randint(0, 100) \n",
    "\n",
    "    if r <= 97: #This conditional leads to crossover of parents\n",
    "        parent1, parent2 = crossover(parent1, parent2)\n",
    "\n",
    "        pos1 = np.argmax(fit_array)\n",
    "        value1 = misfit(parent1[0], parent1[1], parent1[2], parent1[3], parent1[4])\n",
    "        fit_array[pos1] = value1\n",
    "        P2_array[pos1] = parent1\n",
    "\n",
    "        pos2 = np.argmax(fit_array)\n",
    "        value2 = misfit(parent2[0], parent2[1], parent2[2], parent2[3], parent2[4])\n",
    "        fit_array[pos2] = value2\n",
    "        P2_array[pos2] = parent2\n",
    "\n",
    "        iteration.append(i)\n",
    "\n",
    "        depth.append(parent1[0])\n",
    "\n",
    "        hvalue.append(parent1[1])\n",
    "\n",
    "        angle.append(parent1[2])\n",
    "\n",
    "        density.append(parent1[3])\n",
    "\n",
    "        thickness.append(parent1[4])\n",
    "\n",
    "\n",
    "    elif (r > 97): #This conditional leads to mutation of parents\n",
    "        parent1, parent2 = mutation(parent1, parent2)\n",
    "\n",
    "        pos1 = np.argmax(fit_array)\n",
    "        value1 = misfit(parent1[0], parent1[1], parent1[2], parent1[3], parent1[4])\n",
    "        fit_array[pos1] = value1\n",
    "        P2_array[pos1] = parent1\n",
    "\n",
    "        pos2 = np.argmax(fit_array)\n",
    "        value2 = misfit(parent2[0], parent2[1], parent2[2], parent2[3], parent2[4])\n",
    "        fit_array[pos2] = value2\n",
    "        P2_array[pos2] = parent2\n",
    "\n",
    "        iteration.append(i)\n",
    "\n",
    "        depth.append(parent1[0])\n",
    "\n",
    "        hvalue.append(parent1[1])\n",
    "\n",
    "        angle.append(parent1[2])\n",
    "\n",
    "        density.append(parent1[3])\n",
    "\n",
    "        thickness.append(parent1[4])\n",
    "\n",
    "\n",
    "\n",
    "    else:\n",
    "        iteration.append(i)\n",
    "\n",
    "        depth.append(parent1[0])\n",
    "\n",
    "        hvalue.append(parent1[1])\n",
    "\n",
    "        angle.append(parent1[2])\n",
    "\n",
    "        density.append(parent1[3])\n",
    "\n",
    "        thickness.append(parent1[4])"
   ]
  },
  {
   "cell_type": "code",
   "execution_count": 24,
   "metadata": {},
   "outputs": [],
   "source": [
    "#Calculation of Misfit\n",
    "z2 = parent1[0]\n",
    "h2 = parent1[1]\n",
    "alpha2 = parent1[2]\n",
    "density2 = parent1[3]\n",
    "t2 = parent1[4]\n",
    "fit = misfit(z2, h2, alpha2, density2, t2)  "
   ]
  },
  {
   "cell_type": "code",
   "execution_count": 27,
   "metadata": {},
   "outputs": [],
   "source": [
    "ga = 2 * G * density2 * t2 * ((np.pi - np.arctan((x - h2 * (1 / np.tan(alpha2))) / (z2 - h2))) - np.arctan((x + h2 * (1 / np.tan(alpha2))) / (z2 + h2)))"
   ]
  },
  {
   "cell_type": "code",
   "execution_count": 41,
   "metadata": {},
   "outputs": [
    {
     "data": {
      "text/plain": [
       "<matplotlib.legend.Legend at 0x1cc3a4f8f48>"
      ]
     },
     "execution_count": 41,
     "metadata": {},
     "output_type": "execute_result"
    },
    {
     "data": {
      "image/png": "[encoded data removed]",
      "text/plain": [
       "<Figure size 432x288 with 1 Axes>"
      ]
     },
     "metadata": {
      "needs_background": "light"
     },
     "output_type": "display_data"
    }
   ],
   "source": [
    "plt.plot(x, g, \"--\", markersize=1, label=\"Actual Value\")\n",
    "plt.plot(x, ga, \"*\", lw=0.8, label=\"Predicted Value\")\n",
    "plt.xlabel(\"Offset\")\n",
    "plt.ylabel(\"Gravity Anomaly (mGal)\")\n",
    "plt.legend((\"Actual Curve\",\"Predicted Curve\"))"
   ]
  },
  {
   "cell_type": "code",
   "execution_count": 50,
   "metadata": {},
   "outputs": [
    {
     "name": "stdout",
     "output_type": "stream",
     "text": [
      "Depth(z) =  2497.961106802537\n",
      "Height(h) =  791.246100131721\n",
      "Angle(alpha) =  30.20200224287394\n",
      "Density_Contrast(density) =  0.5388614460281809\n",
      "Thickness(t) =  2787.9742801350885\n"
     ]
    }
   ],
   "source": [
    "#Results\n",
    "print(\"Depth(z) = \", parent1[0])\n",
    "print(\"Height(h) = \", parent1[1])\n",
    "print(\"Angle(alpha) = \", parent1[2] * 180 / math.pi)\n",
    "print(\"Density_Contrast(density) = \", parent1[3])\n",
    "print(\"Thickness(t) = \",parent1[4])"
   ]
  },
  {
   "cell_type": "code",
   "execution_count": null,
   "metadata": {},
   "outputs": [],
   "source": []
  }
 ],
 "metadata": {
  "kernelspec": {
   "display_name": "Python 3",
   "language": "python",
   "name": "python3"
  },
  "language_info": {
   "codemirror_mode": {
    "name": "ipython",
    "version": 3
   },
   "file_extension": ".py",
   "mimetype": "text/x-python",
   "name": "python",
   "nbconvert_exporter": "python",
   "pygments_lexer": "ipython3",
   "version": "3.7.4"
  }
 },
 "nbformat": 4,
 "nbformat_minor": 2
}
