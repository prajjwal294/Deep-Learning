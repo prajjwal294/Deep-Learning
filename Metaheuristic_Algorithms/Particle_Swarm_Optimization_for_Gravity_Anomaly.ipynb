{
 "cells": [
  {
   "cell_type": "markdown",
   "metadata": {},
   "source": [
    "# Particle Swarm Optimization (PSO) for Inversion of Gravity Data"
   ]
  },
  {
   "cell_type": "code",
   "execution_count": 50,
   "metadata": {},
   "outputs": [],
   "source": [
    "import matplotlib.pyplot as plt\n",
    "import numpy as np\n",
    "import random"
   ]
  },
  {
   "cell_type": "code",
   "execution_count": 51,
   "metadata": {},
   "outputs": [],
   "source": [
    "#generate population\n",
    "population_density = np.linspace(0, 2, 10000)\n",
    "population_t = np.linspace(500, 3000, 10000)\n",
    "population_Z = np.linspace(1000, 3000, 10000)\n",
    "population_alpha = np.linspace(0, 1.57, 5000)\n",
    "population_h = np.linspace(00, 2500, 10000)"
   ]
  },
  {
   "cell_type": "code",
   "execution_count": 52,
   "metadata": {},
   "outputs": [],
   "source": [
    "#generating a synthetic data with following parametric values\n",
    "novariable = [1, 2, 3, 4, 5]\n",
    "G = 6.67 * 10 ** -3   #\n",
    "density = 1.0\n",
    "t = 1500\n",
    "h =800\n",
    "z = 2500\n",
    "alpha = np.pi *30/180\n",
    "\n",
    "x = np.linspace(-8000,8000,50)\n",
    "g = 2*G*density*t*((np.pi-np.arctan((x-h*(1/np.tan(alpha)))/(z-h)))-np.arctan((x + h*(1/np.tan(alpha)))/(z+h)))"
   ]
  },
  {
   "cell_type": "code",
   "execution_count": 53,
   "metadata": {},
   "outputs": [
    {
     "data": {
      "image/png": "[encoded data removed]",
      "text/plain": [
       "<Figure size 432x288 with 1 Axes>"
      ]
     },
     "metadata": {
      "needs_background": "light"
     },
     "output_type": "display_data"
    }
   ],
   "source": [
    "plt.plot(x, g)\n",
    "plt.xlabel(\"Offset\")\n",
    "plt.ylabel(\"Gravity Anomaly (mGal)\")\n",
    "plt.show()"
   ]
  },
  {
   "cell_type": "code",
   "execution_count": 54,
   "metadata": {},
   "outputs": [],
   "source": [
    "#Misfit function is defines below. It works better than simple MSE function\n",
    "def misfit(density2, t2, z2, alpha2, h2):\n",
    "    gi = 0\n",
    "    ga = 2 * G * density2 * t2 * ((np.pi - np.arctan((x - h2 * (1 / np.tan(alpha2))) / (z2 - h2))) - np.arctan(\n",
    "        (x + h2 * (1 / np.tan(alpha2))) / (z2 + h2)))\n",
    "    for jk in range(len(x)):\n",
    "        gi = (g[jk] - ga[jk]) ** 2 + gi\n",
    "    fit = (gi / 2) ** 0.5\n",
    "    return (fit)"
   ]
  },
  {
   "cell_type": "code",
   "execution_count": 55,
   "metadata": {},
   "outputs": [],
   "source": [
    "P2_array = []\n",
    "fit_array = []\n",
    "n_parents = 25\n",
    "def particle_generation(x):\n",
    "    for itq in range(n_parents):  # Range should be equal to number of parents to generate\n",
    "        density2 = random.choice(population_density)\n",
    "        z2 = random.choice(population_Z)\n",
    "        h2 = random.choice(population_h)\n",
    "        alpha2 = random.choice(population_alpha)\n",
    "        t2 = random.choice(population_t)\n",
    "\n",
    "        P2 = [density2, t2, z2, alpha2, h2]\n",
    "\n",
    "        P2_array.append(P2)\n",
    "        ft = misfit(P2[0], P2[1], P2[2], P2[3], P2[4])\n",
    "        fit_array.append(ft)\n",
    "    P2_ar = np.array(P2_array)\n",
    "    ft_ar = np.array(fit_array)\n",
    "    return (P2_ar, ft_ar)"
   ]
  },
  {
   "cell_type": "code",
   "execution_count": 56,
   "metadata": {},
   "outputs": [],
   "source": [
    "def velocity(w, c1, c2, pbest, gbest, P2_ar, V2_ar):\n",
    "    V2_ar2 = []\n",
    "    for ij in range(n_parents):\n",
    "        veloi = []\n",
    "        for kl in range(len(novariable)):\n",
    "            \n",
    "            r = np.random.uniform(0, 1, 1000)\n",
    "            rand1 = random.choice(r)\n",
    "            rand2 = random.choice(r)\n",
    "        \n",
    "            A = pbest[ij][kl] - P2_ar[ij][kl]\n",
    "            B = gbest[kl] - P2_ar[ij][kl]\n",
    "            velo = w * V2_ar[ij][kl] + (A * c1 * rand1) + (B * c2 * rand2)\n",
    "            veloi.append(velo)\n",
    "        V2_ar2.append(veloi)\n",
    "    return (V2_ar2)"
   ]
  },
  {
   "cell_type": "code",
   "execution_count": 57,
   "metadata": {},
   "outputs": [],
   "source": [
    "def weight(wmax, wmin, i):\n",
    "    w = wmax - ((wmax - wmin) / iterations) * i\n",
    "    return (w)\n",
    "\n",
    "def position(P2_ar, V2_ar):\n",
    "    P2_ar_temp3 = []\n",
    "    \n",
    "    for lmp in range(len(P2_ar)):   \n",
    "        XXX = P2_ar[lmp] + V2_ar[lmp]\n",
    "        P2_ar_temp3.append(XXX)\n",
    "    return (P2_ar_temp3)"
   ]
  },
  {
   "cell_type": "code",
   "execution_count": 58,
   "metadata": {},
   "outputs": [],
   "source": [
    "population_densityq = np.linspace(population_density[0]*0.1, population_density[-1]*0.1, len(population_density))\n",
    "population_tq = np.linspace(population_t[0]*0.1, population_t[-1]*0.1, len(population_t))\n",
    "population_Zq = np.linspace(population_Z[0]*0.1, population_Z[-1]*0.1, len(population_Z))\n",
    "population_alphaq = np.linspace(population_alpha[0]*0.1, population_alpha[-1]*0.1, len(population_alpha))\n",
    "population_hq = np.linspace(population_h[0]*0.1, population_h[-1]*0.1, len(population_h))"
   ]
  },
  {
   "cell_type": "code",
   "execution_count": 59,
   "metadata": {},
   "outputs": [
    {
     "name": "stdout",
     "output_type": "stream",
     "text": [
      "Initial Min Misfit 51.26473752770093\n",
      "Initial Max Misfit 571.6953209411674\n"
     ]
    }
   ],
   "source": [
    "P2q_array = []\n",
    "P2_array = []\n",
    "fit_array = []\n",
    "def velocity_generation():\n",
    "    for ip in range(n_parents):  # Range should be equal to number of parents to generate\n",
    "        density2q = random.choice(population_densityq)\n",
    "        z2q = random.choice(population_Zq)\n",
    "        h2q = random.choice(population_hq)\n",
    "        alpha2q = random.choice(population_alphaq)\n",
    "        t2q = random.choice(population_tq)\n",
    "        P2q = [density2q, t2q, z2q, alpha2q, h2q]\n",
    "        P2q_array.append(P2q)\n",
    "    V2_ar = np.array(P2q_array)\n",
    "    return (V2_ar)\n",
    "\n",
    "V2_ar = velocity_generation()\n",
    "c1 = 1.8\n",
    "c2 = 1.8\n",
    "wmax = 0.8\n",
    "wmin = 0.1\n",
    "P2_ar, ft_ar = particle_generation(x)\n",
    "\n",
    "pbest = P2_ar\n",
    "pbest_temp = P2_ar\n",
    "\n",
    "gbest_fitness = np.min(ft_ar)\n",
    "gbestposition = np.argmin(ft_ar)\n",
    "gbest = pbest[gbestposition]\n",
    "iterations = 2500\n",
    "itr_count = []\n",
    "g_value = []\n",
    "print(\"Initial Min Misfit\",gbest_fitness)\n",
    "print(\"Initial Max Misfit\", np.max(ft_ar))\n",
    "\n",
    "Xmin = np.min(ft_ar)\n",
    "Xposition = np.argmin(ft_ar)\n",
    "Xmin_particle = P2_ar[Xposition]\n",
    "\n",
    "Xmax = np.max(ft_ar)\n",
    "Xposition2 = np.argmax(ft_ar)\n",
    "Xmax_particle = P2_ar[Xposition2]\n",
    "\n",
    "for i in range(iterations):\n",
    "    \n",
    "    w = weight(wmax, wmin, i)\n",
    "    \n",
    "    pbest_temp2 = []\n",
    "    ftl_temp_2 = []        \n",
    "    for ii in range(n_parents):\n",
    "        if misfit(pbest_temp[ii][0],pbest_temp[ii][1],pbest_temp[ii][2],pbest_temp[ii][3],pbest_temp[ii][4]) <= misfit(P2_ar[ii][0],P2_ar[ii][1],P2_ar[ii][2],P2_ar[ii][3],P2_ar[ii][4]):\n",
    "            ftl = misfit(pbest_temp[ii][0],pbest_temp[ii][1],pbest_temp[ii][2],pbest_temp[ii][3],pbest_temp[ii][4])\n",
    "            pbest_temp2.append(pbest_temp[ii])\n",
    "            ftl_temp_2.append(ftl)\n",
    "            \n",
    "        else:\n",
    "            ftl = misfit(P2_ar[ii][0],P2_ar[ii][1],P2_ar[ii][2],P2_ar[ii][3],P2_ar[ii][4])\n",
    "            pbest_temp2.append(P2_ar[ii])\n",
    "            ftl_temp_2.append(ftl)              \n",
    "    \n",
    "    V2_ar = velocity(w, c1, c2, pbest, gbest, P2_ar, V2_ar)\n",
    "    P2_ar =position(P2_ar, V2_ar)\n",
    "    \n",
    "    \n",
    "    for tq in range(len(P2_ar)):\n",
    "        ft_tempr = misfit(P2_ar[tq][0],P2_ar[tq][1],P2_ar[tq][2],P2_ar[tq][3],P2_ar[tq][4])\n",
    "        ft_ar[tq] = ft_tempr\n",
    "    \n",
    "    \n",
    "    P2_ar_temp3 = []\n",
    "    for y in range(n_parents):     \n",
    "        if (ft_ar[y] >= Xmin) and (ft_ar[y] <= Xmax):\n",
    "            Xnew = P2_ar[y]\n",
    "            P2_ar_temp3.append(Xnew)\n",
    "        elif ft_ar[y] < Xmin:\n",
    "            Xnew = P2_ar[0]\n",
    "            P2_ar_temp3.append(Xnew)\n",
    "        elif ft_ar[y] > Xmax:\n",
    "            Xnew = P2_ar[-1]\n",
    "            P2_ar_temp3.append(Xnew) \n",
    "        \n",
    "    P2_ar = P2_ar_temp3\n",
    "    \n",
    "    Xmin = np.min(ft_ar)\n",
    "    Xposition = np.argmin(ft_ar)\n",
    "    Xmin_particle = P2_ar[Xposition]\n",
    "    \n",
    "    Xmax = np.max(ft_ar)\n",
    "    Xposition2 = np.argmax(ft_ar)\n",
    "    Xmax_particle = P2_ar[Xposition2]\n",
    "    \n",
    "    pbest = pbest_temp2\n",
    "    pbest_temp = pbest\n",
    "    \n",
    "    gbest_fitness = np.min(ftl_temp_2)\n",
    "    gbestposition = np.argmin(ftl_temp_2)\n",
    "    gbest = pbest[gbestposition]\n",
    "\n",
    "    itr_count.append(i)\n",
    "    g_value.append(gbest_fitness)"
   ]
  },
  {
   "cell_type": "code",
   "execution_count": 60,
   "metadata": {},
   "outputs": [
    {
     "data": {
      "image/png": "[encoded data removed]",
      "text/plain": [
       "<Figure size 432x288 with 1 Axes>"
      ]
     },
     "metadata": {
      "needs_background": "light"
     },
     "output_type": "display_data"
    }
   ],
   "source": [
    "plt.plot(itr_count,g_value)\n",
    "plt.xlabel(\"Iterations\")\n",
    "plt.ylabel(\"Misfit\")\n",
    "plt.show()"
   ]
  },
  {
   "cell_type": "code",
   "execution_count": 45,
   "metadata": {},
   "outputs": [
    {
     "name": "stdout",
     "output_type": "stream",
     "text": [
      "Final Misfit 1.1428786871778621e-10\n",
      "Final max Misfit 3.2981621923241643e-10\n"
     ]
    }
   ],
   "source": [
    "print(\"Final Misfit\",gbest_fitness)\n",
    "print(\"Final max Misfit\", np.max(ft_ar))"
   ]
  },
  {
   "cell_type": "code",
   "execution_count": null,
   "metadata": {},
   "outputs": [],
   "source": [
    "density2 = gbest[0]\n",
    "t2 = gbest[1]\n",
    "z2 = gbest[2]\n",
    "alpha2 = gbest[3]\n",
    "h2 = gbest[4]"
   ]
  },
  {
   "cell_type": "code",
   "execution_count": 67,
   "metadata": {},
   "outputs": [
    {
     "data": {
      "text/plain": [
       "<matplotlib.legend.Legend at 0x21b84774d48>"
      ]
     },
     "execution_count": 67,
     "metadata": {},
     "output_type": "execute_result"
    },
    {
     "data": {
      "image/png": "[encoded data removed]",
      "text/plain": [
       "<Figure size 432x288 with 1 Axes>"
      ]
     },
     "metadata": {
      "needs_background": "light"
     },
     "output_type": "display_data"
    }
   ],
   "source": [
    "g2 = 2 * G * density2 * t2 * ((np.pi - np.arctan((x - h2 * (1 / np.tan(alpha2))) / (z2 - h2))) - np.arctan(\n",
    "    (x + h2 * (1 / np.tan(alpha2))) / (z2 + h2)))\n",
    "\n",
    "plt.plot(x, g, \"--\", markersize=1, label=\"Actual Value\")\n",
    "plt.plot(x, g2, \"*\", lw=0.8, label=\"Predicted Value\")\n",
    "plt.xlabel(\"Offset\")\n",
    "plt.ylabel(\"Gravity Anomaly (mGal)\")\n",
    "plt.legend((\"Actual Curve\",\"Predicted Curve\"))"
   ]
  },
  {
   "cell_type": "code",
   "execution_count": 66,
   "metadata": {},
   "outputs": [
    {
     "name": "stdout",
     "output_type": "stream",
     "text": [
      "Density Contrast (density): 0.6833305805174937\n",
      "Thickness (t): 2195.1307943280203\n",
      "Height (h): 799.9999999996267\n",
      "Depth (z): 2499.999999999718\n",
      "Alpha: 29.999999999980943\n"
     ]
    }
   ],
   "source": [
    "print(\"Density Contrast (density):\", density2)\n",
    "print(\"Thickness (t):\", t2)\n",
    "print(\"Height (h):\", h2)\n",
    "print('Depth (z):', z2)\n",
    "print(\"Alpha:\", (alpha2 * 180 / np.pi)%360)    "
   ]
  },
  {
   "cell_type": "code",
   "execution_count": null,
   "metadata": {},
   "outputs": [],
   "source": []
  }
 ],
 "metadata": {
  "kernelspec": {
   "display_name": "Python 3",
   "language": "python",
   "name": "python3"
  },
  "language_info": {
   "codemirror_mode": {
    "name": "ipython",
    "version": 3
   },
   "file_extension": ".py",
   "mimetype": "text/x-python",
   "name": "python",
   "nbconvert_exporter": "python",
   "pygments_lexer": "ipython3",
   "version": "3.7.4"
  }
 },
 "nbformat": 4,
 "nbformat_minor": 2
}
